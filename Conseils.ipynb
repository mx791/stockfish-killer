{
 "cells": [
  {
   "cell_type": "code",
   "execution_count": 357,
   "metadata": {},
   "outputs": [],
   "source": [
    "import pandas as pd\n",
    "import chess\n",
    "import chess.pgn\n",
    "import io\n",
    "import numpy as np\n",
    "import re\n",
    "import operator"
   ]
  },
  {
   "cell_type": "markdown",
   "metadata": {},
   "source": []
  },
  {
   "cell_type": "code",
   "execution_count": 2,
   "metadata": {},
   "outputs": [],
   "source": [
    "board = chess.Board()"
   ]
  },
  {
   "cell_type": "code",
   "execution_count": 356,
   "metadata": {},
   "outputs": [
    {
     "name": "stdout",
     "output_type": "stream",
     "text": [
      "[Event \"Rated Blitz game\"]\n",
      "[Site \"?\"]\n",
      "[Date \"2020.06.01\"]\n",
      "[Round \"-\"]\n",
      "[White \"Cor64\"]\n",
      "[Black \"matapalo\"]\n",
      "[Result \"1/2-1/2\"]\n",
      "[BlackElo \"2254\"]\n",
      "[BlackRatingDiff \"+3\"]\n",
      "[ECO \"C18\"]\n",
      "[LichessURL \"https://lichess.org/kuUOsOML\"]\n",
      "[Opening \"French Defense: Winawer Variation, Poisoned Pawn Variation\"]\n",
      "[Termination \"Normal\"]\n",
      "[TimeControl \"180+2\"]\n",
      "[UTCDate \"2020.06.01\"]\n",
      "[UTCTime \"00:00:00\"]\n",
      "[WhiteElo \"2413\"]\n",
      "[WhiteRatingDiff \"-2\"]\n",
      "\n",
      "1. e4 e6 2. d4 d5 3. Nc3 Bb4 4. e5 Ne7 5. a3 Bxc3+ 6. bxc3 c5 7. Qg4 Qc7 8. Qxg7 Rg8 9. Qxh7 cxd4 10. Ne2 dxc3 11. f4 d4 12. h4 Nbc6 13. h5 Bd7 14. h6 O-O-O 15. Qd3 Rg6 16. h7 Rh8 17. Nxd4 Nxd4 18. Qxd4 Kb8 19. Rh3 Nf5 20. Qb4 Bc6 21. a4 Bxg2 22. Rxc3 Qb6 23. Qxb6 axb6 24. Ba3 Bxf1 25. O-O-O Bg2 26. Bd6+ Ka7 27. Rc7 Rxh7 28. Rc8 Rhg7 29. Bb8+ Ka6 30. Bc7 Rg8 31. Rdd8 Rxd8 32. Rxd8 Ka7 33. Bb8+ Ka6 34. Bc7 Ka7 35. Bb8+ Ka8 36. Bc7+ Ka7 1/2-1/2\n"
     ]
    }
   ],
   "source": [
    "\n",
    "df = pd.DataFrame(columns=['Opening', 'Result'])\n",
    "games = open('lichess_elite_2020-06.pgn')\n",
    "d={}\n",
    "for k in range(1) :\n",
    "   game = chess.pgn.read_game(games)\n",
    "print(game)\n"
   ]
  },
  {
   "cell_type": "code",
   "execution_count": 360,
   "metadata": {},
   "outputs": [
    {
     "name": "stdout",
     "output_type": "stream",
     "text": [
      "['e4', 'e6', 'd4', 'd5', 'Nc3', 'Bb4', 'e5', 'Ne7', 'a3', 'Bxc3+', 'bxc3', 'c5', 'Qg4', 'Qc7', 'Qxg7', 'Rg8', 'Qxh7', 'cxd4', 'Ne2', 'dxc3', 'f4', 'd4', 'h4', 'Nbc6', 'h5', 'Bd7', 'h6', 'O-O-O', 'Qd3', 'Rg6', 'h7', 'Rh8', 'Nxd4', 'Nxd4', 'Qxd4', 'Kb8', 'Rh3', 'Nf5', 'Qb4', 'Bc6', 'a4', 'Bxg2', 'Rxc3', 'Qb6', 'Qxb6', 'axb6', 'Ba3', 'Bxf1', 'O-O-O', 'Bg2', 'Bd6+', 'Ka7', 'Rc7', 'Rxh7', 'Rc8', 'Rhg7', 'Bb8+', 'Ka6', 'Bc7', 'Rg8', 'Rdd8', 'Rxd8', 'Rxd8', 'Ka7', 'Bb8+', 'Ka6', 'Bc7', 'Ka7', 'Bb8+', 'Ka8', 'Bc7+', 'Ka7']\n",
      "['e4', 'd4', 'Nc3', 'e5', 'a3', 'bxc3', 'Qg4', 'Qxg7', 'Qxh7', 'Ne2', 'f4', 'h4', 'h5', 'h6', 'Qd3', 'h7', 'Nxd4', 'Qxd4', 'Rh3', 'Qb4', 'a4', 'Rxc3', 'Qxb6', 'Ba3', 'O-O-O', 'Bd6+', 'Rc7', 'Rc8', 'Bb8+', 'Bc7', 'Rdd8', 'Rxd8', 'Bb8+', 'Bc7', 'Bb8+', 'Bc7+']\n",
      "e6 d5 Bb4 Ne7 Bxc3+ c5 Qc7 Rg8 cxd4 dxc3 d4 Nbc6 Bd7 O-O-O Rg6 Rh8 Nxd4 Kb8 Nf5 Bc6 Bxg2 Qb6 axb6 Bxf1 Bg2 Ka7 Rxh7 Rhg7 Ka6 Rg8 Rxd8 Ka7 Ka6 Ka7 Ka8 Ka7\n"
     ]
    }
   ],
   "source": [
    "board = game.board()\n",
    "b=[]\n",
    "for move in game.mainline_moves():\n",
    "    b.append(board.san(move))\n",
    "    board.push(move)\n",
    "print(b)\n",
    "whitemove = []\n",
    "blackmove = []\n",
    "for i in range(0, len(b)):\n",
    "    if i % 2:\n",
    "        blackmove.append(b[i])\n",
    "    else :\n",
    "        whitemove.append(b[i])\n",
    " \n",
    "\n",
    "print(whitemove)\n",
    "blackmovestr = ' '.join(blackmove)    \n",
    "print(blackmovestr)"
   ]
  },
  {
   "cell_type": "code",
   "execution_count": 421,
   "metadata": {},
   "outputs": [
    {
     "name": "stdout",
     "output_type": "stream",
     "text": [
      "e6 d5 Bb4 Ne7 Bxc3+ c5 Qc7 Rg8 cxd4 dxc3 d4 Nbc6 Bd7 O-O-O Rg6 Rh8 Nxd4 Kb8 Nf5 Bc6 Bxg2 Qb6 axb6 Bxf1 Bg2 Ka7 Rxh7 Rhg7 Ka6 Rg8 Rxd8 Ka7 Ka6 Ka7 Ka8 Ka7\n",
      "106 7 9\n",
      "   Piece  Mouvement\n",
      "4      R          7\n",
      "5      Q          2\n",
      "6      O          3\n",
      "9      N          4\n",
      "10     B          7\n",
      "11     K          8\n",
      "   Ligne  Mouvement\n",
      "0      b          5\n",
      "3      g          6\n",
      "8      f          2\n",
      "13     d          7\n",
      "15     c          7\n",
      "16     h          3\n",
      "20     a          8\n",
      "21     e          2\n",
      "   Colonne  Mouvement\n",
      "1        1          1\n",
      "2        6          8\n",
      "7        8          6\n",
      "12       2          2\n",
      "14       5          3\n",
      "17       7          9\n",
      "18       3          2\n",
      "19       4          4\n"
     ]
    },
    {
     "name": "stderr",
     "output_type": "stream",
     "text": [
      "C:\\Users\\maxim\\AppData\\Local\\Temp\\ipykernel_10752\\900505356.py:20: SettingWithCopyWarning: \n",
      "A value is trying to be set on a copy of a slice from a DataFrame\n",
      "\n",
      "See the caveats in the documentation: https://pandas.pydata.org/pandas-docs/stable/user_guide/indexing.html#returning-a-view-versus-a-copy\n",
      "  df1.rename(columns={'Position':'Piece'}, inplace=True)\n",
      "C:\\Users\\maxim\\AppData\\Local\\Temp\\ipykernel_10752\\900505356.py:21: SettingWithCopyWarning: \n",
      "A value is trying to be set on a copy of a slice from a DataFrame\n",
      "\n",
      "See the caveats in the documentation: https://pandas.pydata.org/pandas-docs/stable/user_guide/indexing.html#returning-a-view-versus-a-copy\n",
      "  df2.rename(columns={'Position':'Ligne'}, inplace=True)\n",
      "C:\\Users\\maxim\\AppData\\Local\\Temp\\ipykernel_10752\\900505356.py:22: SettingWithCopyWarning: \n",
      "A value is trying to be set on a copy of a slice from a DataFrame\n",
      "\n",
      "See the caveats in the documentation: https://pandas.pydata.org/pandas-docs/stable/user_guide/indexing.html#returning-a-view-versus-a-copy\n",
      "  df3.rename(columns={'Position':'Colonne'}, inplace=True)\n"
     ]
    },
    {
     "data": {
      "text/plain": [
       "'R'"
      ]
     },
     "execution_count": 421,
     "metadata": {},
     "output_type": "execute_result"
    }
   ],
   "source": [
    "\n",
    "\n",
    "def check_freq(x):\n",
    "    freq = {}\n",
    "    for c in set(x):\n",
    "       freq[c] = x.count(c)\n",
    "    return freq\n",
    "blackm=check_freq(blackmovestr)\n",
    "blackm.pop(' ')\n",
    "blackm.pop('-')\n",
    "blackm.pop('x')\n",
    "blackm.pop('+')\n",
    "print(blackmovestr)\n",
    "max_key = max(blackm, key=lambda key: blackm[key])\n",
    "total= sum(blackm.values())\n",
    "print(total, max_key, max(blackm.values()))\n",
    "df=pd.DataFrame(list(blackm.items()),columns=['Position', 'Mouvement'])\n",
    "df.sort_values(by = 'Position')\n",
    "df1=df.loc[df['Position'].str.contains('[A-Z]')]\n",
    "df2=df.loc[df['Position'].str.contains('[a-z]')]\n",
    "df3=df.loc[df['Position'].str.contains('[0-9]')]\n",
    "df1.rename(columns={'Position':'Piece'}, inplace=True)\n",
    "df2.rename(columns={'Position':'Ligne'}, inplace=True)\n",
    "df3.rename(columns={'Position':'Colonne'}, inplace=True)\n",
    "print(df1)\n",
    "print(df2)\n",
    "print(df3)\n",
    "\n"
   ]
  },
  {
   "cell_type": "code",
   "execution_count": 422,
   "metadata": {},
   "outputs": [
    {
     "name": "stdout",
     "output_type": "stream",
     "text": [
      "attaque l ail roi !\n"
     ]
    }
   ],
   "source": [
    "if df1['Piece'].max()=='R': \n",
    "    print('attaque l ail roi !')\n",
    "if df1['Piece'].max()=='Q': \n",
    "    print('attaque l ail dame !')\n",
    "if df1['Piece'].max()=='Q': \n",
    "    print('attaque l ail dame !')\n"
   ]
  },
  {
   "cell_type": "code",
   "execution_count": null,
   "metadata": {},
   "outputs": [],
   "source": []
  }
 ],
 "metadata": {
  "kernelspec": {
   "display_name": "Python 3.9.12 ('base')",
   "language": "python",
   "name": "python3"
  },
  "language_info": {
   "codemirror_mode": {
    "name": "ipython",
    "version": 3
   },
   "file_extension": ".py",
   "mimetype": "text/x-python",
   "name": "python",
   "nbconvert_exporter": "python",
   "pygments_lexer": "ipython3",
   "version": "3.9.12"
  },
  "orig_nbformat": 4,
  "vscode": {
   "interpreter": {
    "hash": "e5968b5040b5ad352cfbb4ff25bb1bcaf98d7df2ec40bbe97243e74cb50ceb66"
   }
  }
 },
 "nbformat": 4,
 "nbformat_minor": 2
}
