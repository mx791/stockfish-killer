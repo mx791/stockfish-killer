{
 "cells": [
  {
   "cell_type": "code",
   "execution_count": 1,
   "metadata": {},
   "outputs": [],
   "source": [
    "import pandas as pd\n",
    "import chess\n",
    "import chess.pgn\n",
    "import io\n",
    "import numpy as np\n",
    "import re\n",
    "import operator\n",
    "import matplotlib.pyplot as plt"
   ]
  },
  {
   "cell_type": "markdown",
   "metadata": {},
   "source": [
    "Isolation des coups d'un joueur, analyse de son style, pour une partie "
   ]
  },
  {
   "cell_type": "code",
   "execution_count": 2,
   "metadata": {},
   "outputs": [
    {
     "name": "stdout",
     "output_type": "stream",
     "text": [
      "[Event \"Rated Blitz game\"]\n",
      "[Site \"?\"]\n",
      "[Date \"2020.06.01\"]\n",
      "[Round \"-\"]\n",
      "[White \"DanielaAndrade\"]\n",
      "[Black \"Dapsay\"]\n",
      "[Result \"0-1\"]\n",
      "[BlackElo \"2416\"]\n",
      "[BlackRatingDiff \"+5\"]\n",
      "[BlackTitle \"IM\"]\n",
      "[ECO \"D52\"]\n",
      "[LichessURL \"https://lichess.org/ZZiTCh8x\"]\n",
      "[Opening \"Queen's Gambit Declined\"]\n",
      "[Termination \"Time forfeit\"]\n",
      "[TimeControl \"180+0\"]\n",
      "[UTCDate \"2020.06.01\"]\n",
      "[UTCTime \"00:00:19\"]\n",
      "[WhiteElo \"2387\"]\n",
      "[WhiteRatingDiff \"-5\"]\n",
      "\n",
      "1. d4 d5 2. c4 c6 3. Nc3 Nf6 4. Nf3 e6 5. Bg5 Nbd7 6. e3 Be7 7. Qc2 a6 8. Rd1 h6 9. Bh4 O-O 10. c5 Ne8 11. Bxe7 Qxe7 12. Be2 e5 13. O-O e4 14. Nd2 f5 15. b4 Ndf6 16. f4 exf3 17. Rxf3 Ng4 18. Nf1 g6 19. Bd3 h5 20. Re1 Nef6 21. h3 Nh6 22. Qf2 Kg7 23. Qh4 Bd7 24. Ne2 Rae8 25. Nf4 Nf7 26. Qg3 g5 27. h4 g4 28. Rf2 Bc8 29. Rb2 Kh6 30. Reb1 Ne4 31. Bxe4 Qxe4 32. a4 Bd7 33. Qf2 Nd8 34. Ng3 Qxe3 35. Ngxh5 Re4 36. Qxe3 Rxe3 37. Kf2 Re4 38. Rd1 Ne6 39. Nxe6 Bxe6 40. Ng3 f4 41. Nxe4 dxe4 42. g3 e3+ 43. Ke2 Bc4+ 44. Rd3 Kh5 45. gxf4 Rxf4 46. Rc2 Rf2+ 47. Kxe3 Rxc2 48. Rd1 Bd5 49. Kf4 Rf2+ 50. Ke5 g3 51. Kd6 g2 52. Rg1 Kxh4 53. Rxg2 Kh3 54. Kc7 Rxg2 55. Kxb7 Rg7+ 56. Kb6 Rf7 57. b5 Bc4 58. Kxa6 cxb5 59. axb5 Bxb5+ 60. Kxb5 Rd7 61. Kc4 Kg4 62. d5 Kf5 63. c6 Rd8 0-1\n"
     ]
    }
   ],
   "source": [
    "\n",
    "df = pd.DataFrame(columns=['Opening', 'Result'])\n",
    "games = open('lichess_elite_2020-06.pgn')\n",
    "d={}\n",
    "for k in range(4) :\n",
    "   game = chess.pgn.read_game(games)\n",
    "print(game)\n"
   ]
  },
  {
   "cell_type": "code",
   "execution_count": 3,
   "metadata": {},
   "outputs": [],
   "source": [
    "#Nettoyage et isolation des données importantes, c'est à dire les coups trier par ligne colonne pièce et occurence\n",
    "games = open('lichess_elite_2020-06.pgn')\n",
    "d={}\n",
    "board = game.board()\n",
    "for k in range(1) :\n",
    "   game = chess.pgn.read_game(games)\n",
    "def iso_move (game,iswhite=True):\n",
    "    b=[]\n",
    "    whitemove = []\n",
    "    blackmove = []\n",
    "    freq = {}\n",
    "    for move in game.mainline_moves():\n",
    "        b.append(board.san(move))\n",
    "        board.push(move)\n",
    "\n",
    "    for i in range(0, len(b)):\n",
    "        if i % 2:\n",
    "            blackmove.append(b[i])\n",
    "        else :\n",
    "            whitemove.append(b[i])\n",
    "    \n",
    "    blackmovestr = ' '.join(blackmove)    \n",
    "    whitemovestr = ' '.join(whitemove)  \n",
    "    \n",
    "    def check_freq(a):\n",
    "        for c in set(a):\n",
    "            freq[c] = a.count(c)\n",
    "        return freq\n",
    "    blackm=check_freq(blackmovestr)\n",
    "    whitem=check_freq(whitemovestr)\n",
    "    def clean_data(x): \n",
    "        if ' ' in x : \n",
    "            x.pop(' ')\n",
    "        if '-' in x :   \n",
    "            x.pop('-')\n",
    "        if 'x' in x : \n",
    "            x.pop('x')\n",
    "        if '+' in x : \n",
    "            x.pop('+')\n",
    "        if 'O' in x : \n",
    "            x.pop('O')\n",
    "    clean_data(blackm)\n",
    "    clean_data(whitem)\n",
    "    def tabl_move(x) :\n",
    "        df=pd.DataFrame(list(x.items()),columns=['Position', 'Mouvement'])\n",
    "        df.sort_values(by = 'Position')\n",
    "        df1=df.loc[df['Position'].str.contains('[A-Z]')]\n",
    "        df2=df.loc[df['Position'].str.contains('[a-z]')]\n",
    "        df3=df.loc[df['Position'].str.contains('[0-9]')]\n",
    "        df1 = df1.rename(columns={'Position':'Piece'})\n",
    "        df2 = df2.rename(columns={'Position':'Ligne'})\n",
    "        df3 = df3.rename(columns={'Position':'Colonne'})\n",
    "        df1=df1.sort_values(by = 'Piece')\n",
    "        df2=df2.sort_values(by = 'Ligne')\n",
    "        df3=df3.sort_values(by = 'Colonne')\n",
    "        df1.reset_index(inplace=True, drop = True)\n",
    "        df2.reset_index(inplace=True, drop = True)\n",
    "        df3.reset_index(inplace=True, drop = True)\n",
    "        return df1, df2, df3 \n",
    "    return  tabl_move(whitem) if iswhite else tabl_move(blackm)"
   ]
  },
  {
   "cell_type": "code",
   "execution_count": 5,
   "metadata": {},
   "outputs": [
    {
     "data": {
      "text/html": [
       "<div>\n",
       "<style scoped>\n",
       "    .dataframe tbody tr th:only-of-type {\n",
       "        vertical-align: middle;\n",
       "    }\n",
       "\n",
       "    .dataframe tbody tr th {\n",
       "        vertical-align: top;\n",
       "    }\n",
       "\n",
       "    .dataframe thead th {\n",
       "        text-align: right;\n",
       "    }\n",
       "</style>\n",
       "<table border=\"1\" class=\"dataframe\">\n",
       "  <thead>\n",
       "    <tr style=\"text-align: right;\">\n",
       "      <th></th>\n",
       "      <th>Piece</th>\n",
       "      <th>Mouvement</th>\n",
       "    </tr>\n",
       "  </thead>\n",
       "  <tbody>\n",
       "    <tr>\n",
       "      <th>0</th>\n",
       "      <td>B</td>\n",
       "      <td>4</td>\n",
       "    </tr>\n",
       "    <tr>\n",
       "      <th>1</th>\n",
       "      <td>K</td>\n",
       "      <td>0</td>\n",
       "    </tr>\n",
       "    <tr>\n",
       "      <th>2</th>\n",
       "      <td>N</td>\n",
       "      <td>5</td>\n",
       "    </tr>\n",
       "    <tr>\n",
       "      <th>3</th>\n",
       "      <td>Q</td>\n",
       "      <td>2</td>\n",
       "    </tr>\n",
       "    <tr>\n",
       "      <th>4</th>\n",
       "      <td>R</td>\n",
       "      <td>0</td>\n",
       "    </tr>\n",
       "  </tbody>\n",
       "</table>\n",
       "</div>"
      ],
      "text/plain": [
       "  Piece  Mouvement\n",
       "0     B          4\n",
       "1     K          0\n",
       "2     N          5\n",
       "3     Q          2\n",
       "4     R          0"
      ]
     },
     "execution_count": 5,
     "metadata": {},
     "output_type": "execute_result"
    }
   ],
   "source": [
    "#exemple de sortie \n",
    "board = game.board()\n",
    "ar1 = np.array([['B',0], ['K',0], ['N',0], ['Q',0], ['R',0]])\n",
    "df1bT= pd.DataFrame(ar1, columns = ['Piece', 'Mouvement'])\n",
    "df1b, df2b, df3b= iso_move(game,False)  \n",
    "df1bT = pd.concat( [df1bT, df1b],axis=0,ignore_index=True)\n",
    "df1bT[\"Mouvement\"] = pd.to_numeric(df1bT[\"Mouvement\"])\n",
    "df11wT = df1bT.groupby('Piece')['Mouvement'].sum().reset_index()\n",
    "df11wT\n"
   ]
  },
  {
   "cell_type": "code",
   "execution_count": 10,
   "metadata": {},
   "outputs": [
    {
     "data": {
      "text/html": [
       "<div>\n",
       "<style scoped>\n",
       "    .dataframe tbody tr th:only-of-type {\n",
       "        vertical-align: middle;\n",
       "    }\n",
       "\n",
       "    .dataframe tbody tr th {\n",
       "        vertical-align: top;\n",
       "    }\n",
       "\n",
       "    .dataframe thead th {\n",
       "        text-align: right;\n",
       "    }\n",
       "</style>\n",
       "<table border=\"1\" class=\"dataframe\">\n",
       "  <thead>\n",
       "    <tr style=\"text-align: right;\">\n",
       "      <th></th>\n",
       "      <th>Ligne</th>\n",
       "      <th>Mouvement</th>\n",
       "    </tr>\n",
       "  </thead>\n",
       "  <tbody>\n",
       "    <tr>\n",
       "      <th>0</th>\n",
       "      <td>a</td>\n",
       "      <td>120.0</td>\n",
       "    </tr>\n",
       "    <tr>\n",
       "      <th>1</th>\n",
       "      <td>b</td>\n",
       "      <td>178.0</td>\n",
       "    </tr>\n",
       "    <tr>\n",
       "      <th>2</th>\n",
       "      <td>c</td>\n",
       "      <td>280.0</td>\n",
       "    </tr>\n",
       "    <tr>\n",
       "      <th>3</th>\n",
       "      <td>d</td>\n",
       "      <td>340.0</td>\n",
       "    </tr>\n",
       "    <tr>\n",
       "      <th>4</th>\n",
       "      <td>e</td>\n",
       "      <td>358.0</td>\n",
       "    </tr>\n",
       "    <tr>\n",
       "      <th>5</th>\n",
       "      <td>f</td>\n",
       "      <td>302.0</td>\n",
       "    </tr>\n",
       "    <tr>\n",
       "      <th>6</th>\n",
       "      <td>g</td>\n",
       "      <td>246.0</td>\n",
       "    </tr>\n",
       "    <tr>\n",
       "      <th>7</th>\n",
       "      <td>h</td>\n",
       "      <td>152.0</td>\n",
       "    </tr>\n",
       "  </tbody>\n",
       "</table>\n",
       "</div>"
      ],
      "text/plain": [
       "  Ligne  Mouvement\n",
       "0     a      120.0\n",
       "1     b      178.0\n",
       "2     c      280.0\n",
       "3     d      340.0\n",
       "4     e      358.0\n",
       "5     f      302.0\n",
       "6     g      246.0\n",
       "7     h      152.0"
      ]
     },
     "execution_count": 10,
     "metadata": {},
     "output_type": "execute_result"
    }
   ],
   "source": [
    "# Extraction des données de 100 parties pour un joueur précis du nom de Lampertcity alias Hippolyte Sibileau, \n",
    "# seulement sera retenu les parties que Lampertcity perd pour savoir si une méthode de victoire apparait \n",
    "pgn = open('lichess_lampertcity_2022-10-27.pgn')\n",
    "board = game.board()\n",
    "ar1 = np.array([['B',0], ['K',0], ['N',0], ['Q',0], ['R',0]])\n",
    "ar2 = np.array([['a',0], ['b',0], ['c',0], ['d',0], ['e',0],['f',0],['g',0],['h',0],])\n",
    "ar3 = np.array([['1',0], ['2',0], ['3',0], ['4',0], ['5',0],['6',0],['7',0],['8',0]])\n",
    "df1wT= pd.DataFrame(ar1, columns = ['Piece', 'Mouvement'])\n",
    "df2wT= pd.DataFrame(ar2, columns = ['Ligne', 'Mouvement'])\n",
    "df3wT= pd.DataFrame(ar3, columns = ['Colonne', 'Mouvement'])\n",
    "df1bT= pd.DataFrame(ar1, columns = ['Piece', 'Mouvement'])\n",
    "df2bT= pd.DataFrame(ar2, columns = ['Ligne', 'Mouvement'])\n",
    "df3bT= pd.DataFrame(ar3, columns = ['Colonne', 'Mouvement'])\n",
    "for k in range(100) :\n",
    "        board = game.board()\n",
    "        game = chess.pgn.read_game(pgn) \n",
    "        if game.headers[\"White\"] == \"lampertcity\" and game.headers[\"Result\"] == \"0-1\" : \n",
    "                df1w, df2w, df3w = iso_move(game)\n",
    "                df1wT = pd.concat( [df1wT, df1w],axis=0,ignore_index=True)\n",
    "                df2wT = pd.concat( [df2wT, df2w],axis=0,ignore_index=True)\n",
    "                df3wT = pd.concat( [df3wT, df3w],axis=0,ignore_index=True)\n",
    "                df1wT[\"Mouvement\"] = pd.to_numeric(df1bT[\"Mouvement\"])\n",
    "                df2wT[\"Mouvement\"] = pd.to_numeric(df2bT[\"Mouvement\"])\n",
    "                df3wT[\"Mouvement\"] = pd.to_numeric(df3bT[\"Mouvement\"])\n",
    "                df1wT = df1wT.groupby('Piece').sum().reset_index()\n",
    "                df2wT = df2wT.groupby('Ligne').sum().reset_index()\n",
    "                df3wT = df3wT.groupby('Colonne').sum().reset_index()\n",
    "                \n",
    "        if game.headers[\"Black\"] == \"lampertcity\" and game.headers[\"Result\"] == \"1-0\" : \n",
    "        \n",
    "                df1b, df2b, df3b = iso_move(game, False)\n",
    "                df1bT = pd.concat( [df1bT, df1b],axis=0,ignore_index=True)\n",
    "                df2bT = pd.concat( [df2bT, df2b],axis=0,ignore_index=True)\n",
    "                df3bT = pd.concat( [df3bT, df3b],axis=0,ignore_index=True)\n",
    "                df1bT[\"Mouvement\"] = pd.to_numeric(df1bT[\"Mouvement\"])\n",
    "                df2bT[\"Mouvement\"] = pd.to_numeric(df2bT[\"Mouvement\"])\n",
    "                df3bT[\"Mouvement\"] = pd.to_numeric(df3bT[\"Mouvement\"])\n",
    "                df1bT = df1bT.groupby('Piece').sum().reset_index()\n",
    "                df2bT = df2bT.groupby('Ligne').sum().reset_index()\n",
    "                df3bT = df3bT.groupby('Colonne').sum().reset_index()\n",
    "df11=pd.concat([df1wT, df1bT],axis=0,ignore_index=True)\n",
    "df22=pd.concat([df2wT, df2bT],axis=0,ignore_index=True)\n",
    "df33=pd.concat([df3wT, df3bT],axis=0,ignore_index=True)\n",
    "df11 = df11.groupby('Piece').sum().reset_index()\n",
    "df22 = df22.groupby('Ligne').sum().reset_index()\n",
    "df33 = df33.groupby('Colonne').sum().reset_index()\n",
    "df22"
   ]
  },
  {
   "cell_type": "code",
   "execution_count": 235,
   "metadata": {},
   "outputs": [
    {
     "data": {
      "text/plain": [
       "<AxesSubplot:xlabel='Colonne'>"
      ]
     },
     "execution_count": 235,
     "metadata": {},
     "output_type": "execute_result"
    },
    {
     "data": {
      "image/png": "[encoded data removed]",
      "text/plain": [
       "<Figure size 432x288 with 1 Axes>"
      ]
     },
     "metadata": {
      "needs_background": "light"
     },
     "output_type": "display_data"
    }
   ],
   "source": [
    "#Visualisation des données -- Mouvemeent en fonction des colonnes \n",
    "df33.plot('Colonne', 'Mouvement', kind='bar')"
   ]
  },
  {
   "cell_type": "code",
   "execution_count": 236,
   "metadata": {},
   "outputs": [
    {
     "data": {
      "text/plain": [
       "<AxesSubplot:xlabel='Ligne'>"
      ]
     },
     "execution_count": 236,
     "metadata": {},
     "output_type": "execute_result"
    },
    {
     "data": {
      "image/png": "[encoded data removed]",
      "text/plain": [
       "<Figure size 432x288 with 1 Axes>"
      ]
     },
     "metadata": {
      "needs_background": "light"
     },
     "output_type": "display_data"
    }
   ],
   "source": [
    "#Visualisation des données -- Mouvemeent en fonction des lignes\n",
    "df22.plot('Ligne', 'Mouvement', kind='bar')"
   ]
  },
  {
   "cell_type": "code",
   "execution_count": 238,
   "metadata": {},
   "outputs": [
    {
     "data": {
      "text/plain": [
       "<AxesSubplot:xlabel='Piece'>"
      ]
     },
     "execution_count": 238,
     "metadata": {},
     "output_type": "execute_result"
    },
    {
     "data": {
      "image/png": "[encoded data removed]",
      "text/plain": [
       "<Figure size 432x288 with 1 Axes>"
      ]
     },
     "metadata": {
      "needs_background": "light"
     },
     "output_type": "display_data"
    }
   ],
   "source": [
    "#Visualisation des données -- Mouvemeent en fonction des pièces\n",
    "df11.plot('Piece', 'Mouvement', kind='bar')"
   ]
  }
 ],
 "metadata": {
  "kernelspec": {
   "display_name": "Python 3.9.12 ('base')",
   "language": "python",
   "name": "python3"
  },
  "language_info": {
   "codemirror_mode": {
    "name": "ipython",
    "version": 3
   },
   "file_extension": ".py",
   "mimetype": "text/x-python",
   "name": "python",
   "nbconvert_exporter": "python",
   "pygments_lexer": "ipython3",
   "version": "3.9.12"
  },
  "orig_nbformat": 4,
  "vscode": {
   "interpreter": {
    "hash": "e5968b5040b5ad352cfbb4ff25bb1bcaf98d7df2ec40bbe97243e74cb50ceb66"
   }
  }
 },
 "nbformat": 4,
 "nbformat_minor": 2
}
