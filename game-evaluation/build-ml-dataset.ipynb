{
 "cells": [
  {
   "cell_type": "code",
   "execution_count": 52,
   "metadata": {},
   "outputs": [],
   "source": [
    "import matplotlib.pyplot as plt\n",
    "import chess.pgn\n",
    "import numpy as np \n",
    "import chess\n",
    "\n",
    "pgn = open(\"../../data/lichess_elite_2020-06.pgn\")"
   ]
  },
  {
   "cell_type": "code",
   "execution_count": 3,
   "metadata": {},
   "outputs": [],
   "source": [
    "def get_base_vect(size):\n",
    "    arr = [0 for i in range(size)]\n",
    "    return np.array(arr)\n",
    "\n",
    "def get_vect(board):\n",
    "    pieces = [chess.PAWN, chess.KNIGHT, chess.BISHOP, chess.ROOK, chess.QUEEN, chess.KING]\n",
    "    colors = [chess.WHITE, chess.BLACK]\n",
    "    vect = get_base_vect(len(pieces)*2*64)\n",
    "    for i in range(len(colors)):\n",
    "        for e in range(len(pieces)):\n",
    "            lst = board.pieces(color=colors[i], piece_type=pieces[e])\n",
    "            for position in lst:\n",
    "                vect[position*len(pieces)*2 + i*len(pieces) + e] = 1\n",
    "    return vect"
   ]
  },
  {
   "cell_type": "code",
   "execution_count": 54,
   "metadata": {},
   "outputs": [
    {
     "ename": "UnboundLocalError",
     "evalue": "local variable 'count' referenced before assignment",
     "output_type": "error",
     "traceback": [
      "\u001b[1;31m---------------------------------------------------------------------------\u001b[0m",
      "\u001b[1;31mUnboundLocalError\u001b[0m                         Traceback (most recent call last)",
      "\u001b[1;32mC:\\Users\\UTILIS~1\\AppData\\Local\\Temp/ipykernel_9832/669256163.py\u001b[0m in \u001b[0;36m<module>\u001b[1;34m\u001b[0m\n\u001b[0;32m     25\u001b[0m \u001b[1;32mfor\u001b[0m \u001b[0mi\u001b[0m \u001b[1;32min\u001b[0m \u001b[0mrange\u001b[0m\u001b[1;33m(\u001b[0m\u001b[1;36m200000\u001b[0m\u001b[1;33m)\u001b[0m\u001b[1;33m:\u001b[0m\u001b[1;33m\u001b[0m\u001b[1;33m\u001b[0m\u001b[0m\n\u001b[0;32m     26\u001b[0m    \u001b[0mgame\u001b[0m \u001b[1;33m=\u001b[0m \u001b[0mchess\u001b[0m\u001b[1;33m.\u001b[0m\u001b[0mpgn\u001b[0m\u001b[1;33m.\u001b[0m\u001b[0mread_game\u001b[0m\u001b[1;33m(\u001b[0m\u001b[0mpgn\u001b[0m\u001b[1;33m)\u001b[0m\u001b[1;33m\u001b[0m\u001b[1;33m\u001b[0m\u001b[0m\n\u001b[1;32m---> 27\u001b[1;33m    \u001b[0mprocess\u001b[0m\u001b[1;33m(\u001b[0m\u001b[0mgame\u001b[0m\u001b[1;33m)\u001b[0m\u001b[1;33m\u001b[0m\u001b[1;33m\u001b[0m\u001b[0m\n\u001b[0m\u001b[0;32m     28\u001b[0m \u001b[1;33m\u001b[0m\u001b[0m\n\u001b[0;32m     29\u001b[0m    \u001b[1;32mif\u001b[0m \u001b[0mi\u001b[0m\u001b[1;33m%\u001b[0m\u001b[1;36m1000\u001b[0m \u001b[1;33m==\u001b[0m \u001b[1;36m0\u001b[0m\u001b[1;33m:\u001b[0m\u001b[1;33m\u001b[0m\u001b[1;33m\u001b[0m\u001b[0m\n",
      "\u001b[1;32mC:\\Users\\UTILIS~1\\AppData\\Local\\Temp/ipykernel_9832/669256163.py\u001b[0m in \u001b[0;36mprocess\u001b[1;34m(game)\u001b[0m\n\u001b[0;32m     16\u001b[0m    \u001b[1;32mfor\u001b[0m \u001b[0mmove\u001b[0m \u001b[1;32min\u001b[0m \u001b[0mgame\u001b[0m\u001b[1;33m.\u001b[0m\u001b[0mmainline_moves\u001b[0m\u001b[1;33m(\u001b[0m\u001b[1;33m)\u001b[0m\u001b[1;33m:\u001b[0m\u001b[1;33m\u001b[0m\u001b[1;33m\u001b[0m\u001b[0m\n\u001b[0;32m     17\u001b[0m       \u001b[0mboard\u001b[0m\u001b[1;33m.\u001b[0m\u001b[0mpush\u001b[0m\u001b[1;33m(\u001b[0m\u001b[0mmove\u001b[0m\u001b[1;33m)\u001b[0m\u001b[1;33m\u001b[0m\u001b[1;33m\u001b[0m\u001b[0m\n\u001b[1;32m---> 18\u001b[1;33m       \u001b[0mcount\u001b[0m \u001b[1;33m+=\u001b[0m \u001b[1;36m1\u001b[0m\u001b[1;33m\u001b[0m\u001b[1;33m\u001b[0m\u001b[0m\n\u001b[0m\u001b[0;32m     19\u001b[0m       \u001b[1;32mif\u001b[0m \u001b[0mcount\u001b[0m\u001b[1;33m%\u001b[0m\u001b[1;36m4\u001b[0m \u001b[1;33m==\u001b[0m \u001b[1;36m0\u001b[0m\u001b[1;33m:\u001b[0m\u001b[1;33m\u001b[0m\u001b[1;33m\u001b[0m\u001b[0m\n\u001b[0;32m     20\u001b[0m          \u001b[0mvect\u001b[0m \u001b[1;33m=\u001b[0m \u001b[0mget_vect\u001b[0m\u001b[1;33m(\u001b[0m\u001b[0mboard\u001b[0m\u001b[1;33m)\u001b[0m\u001b[1;33m\u001b[0m\u001b[1;33m\u001b[0m\u001b[0m\n",
      "\u001b[1;31mUnboundLocalError\u001b[0m: local variable 'count' referenced before assignment"
     ]
    }
   ],
   "source": [
    "X, Y = [], []\n",
    "Y_ = []\n",
    "\n",
    "\n",
    "\n",
    "def process(game):\n",
    "   count = 0\n",
    "   if game.headers[\"Result\"] == \"1/2-1/2\":\n",
    "      return\n",
    "\n",
    "   y = np.zeros((1))\n",
    "   if game.headers[\"Result\"] == \"1-0\":\n",
    "      y[0] = 1.0\n",
    "\n",
    "   board = game.board()\n",
    "\n",
    "   for move in game.mainline_moves():\n",
    "      board.push(move)\n",
    "      count += 1\n",
    "      if count%4 == 0:\n",
    "         vect = get_vect(board)\n",
    "         X.append(vect)\n",
    "         Y.append(y)\n",
    "\n",
    "\n",
    "for i in range(200000):\n",
    "   game = chess.pgn.read_game(pgn)\n",
    "   process(game)\n",
    "   \n",
    "   if i%1000 == 0:\n",
    "      print(i, len(X))\n",
    "\n",
    "print(len(X))"
   ]
  },
  {
   "cell_type": "code",
   "execution_count": 25,
   "metadata": {},
   "outputs": [
    {
     "name": "stdout",
     "output_type": "stream",
     "text": [
      "(901262, 768)\n",
      "(901262, 1)\n"
     ]
    }
   ],
   "source": [
    "X = np.array(X)\n",
    "Y = np.array(Y)\n",
    "\n",
    "print(X.shape)\n",
    "print(Y.shape)\n",
    "\n",
    "np.save(\"F:\\\\Dataset\\\\chess\\\\X\", X)\n",
    "np.save(\"F:\\\\Dataset\\\\chess\\\\Y\", Y)"
   ]
  },
  {
   "cell_type": "code",
   "execution_count": 49,
   "metadata": {},
   "outputs": [
    {
     "name": "stdout",
     "output_type": "stream",
     "text": [
      "Model: \"sequential_16\"\n",
      "_________________________________________________________________\n",
      " Layer (type)                Output Shape              Param #   \n",
      "=================================================================\n",
      " dense_48 (Dense)            (None, 256)               196864    \n",
      "                                                                 \n",
      " dropout_18 (Dropout)        (None, 256)               0         \n",
      "                                                                 \n",
      " dense_49 (Dense)            (None, 128)               32896     \n",
      "                                                                 \n",
      " dropout_19 (Dropout)        (None, 128)               0         \n",
      "                                                                 \n",
      " dense_50 (Dense)            (None, 1)                 129       \n",
      "                                                                 \n",
      "=================================================================\n",
      "Total params: 229,889\n",
      "Trainable params: 229,889\n",
      "Non-trainable params: 0\n",
      "_________________________________________________________________\n"
     ]
    }
   ],
   "source": [
    "import tensorflow.keras as keras\n",
    "\n",
    "model = keras.Sequential()\n",
    "#  kernel_regularizer=keras.regularizers.L1(0.001)\n",
    "model.add(keras.layers.Dense(256, activation=\"tanh\", input_shape=(len(X[0]),)))\n",
    "model.add(keras.layers.Dropout(0.6))\n",
    "model.add(keras.layers.Dense(128, activation=\"tanh\"))\n",
    "model.add(keras.layers.Dropout(0.6))\n",
    "model.add(keras.layers.Dense(1, activation=\"sigmoid\"))\n",
    "\n",
    "opt = keras.optimizers.Adam(learning_rate=0.001)\n",
    "model.compile(loss='binary_crossentropy', optimizer=opt, metrics=[\"accuracy\"])\n",
    "\n",
    "model.summary()"
   ]
  },
  {
   "cell_type": "code",
   "execution_count": 50,
   "metadata": {},
   "outputs": [
    {
     "name": "stdout",
     "output_type": "stream",
     "text": [
      "Epoch 1/14\n",
      "WARNING:tensorflow:AutoGraph could not transform <function Model.make_train_function.<locals>.train_function at 0x000001939B6D4828> and will run it as-is.\n",
      "Please report this to the TensorFlow team. When filing the bug, set the verbosity to 10 (on Linux, `export AUTOGRAPH_VERBOSITY=10`) and attach the full output.\n",
      "Cause: 'arguments' object has no attribute 'posonlyargs'\n",
      "To silence this warning, decorate the function with @tf.autograph.experimental.do_not_convert\n",
      "WARNING: AutoGraph could not transform <function Model.make_train_function.<locals>.train_function at 0x000001939B6D4828> and will run it as-is.\n",
      "Please report this to the TensorFlow team. When filing the bug, set the verbosity to 10 (on Linux, `export AUTOGRAPH_VERBOSITY=10`) and attach the full output.\n",
      "Cause: 'arguments' object has no attribute 'posonlyargs'\n",
      "To silence this warning, decorate the function with @tf.autograph.experimental.do_not_convert\n",
      "5271/5281 [============================>.] - ETA: 0s - loss: 0.6722 - accuracy: 0.5739WARNING:tensorflow:AutoGraph could not transform <function Model.make_test_function.<locals>.test_function at 0x000001939A46F948> and will run it as-is.\n",
      "Please report this to the TensorFlow team. When filing the bug, set the verbosity to 10 (on Linux, `export AUTOGRAPH_VERBOSITY=10`) and attach the full output.\n",
      "Cause: 'arguments' object has no attribute 'posonlyargs'\n",
      "To silence this warning, decorate the function with @tf.autograph.experimental.do_not_convert\n",
      "WARNING: AutoGraph could not transform <function Model.make_test_function.<locals>.test_function at 0x000001939A46F948> and will run it as-is.\n",
      "Please report this to the TensorFlow team. When filing the bug, set the verbosity to 10 (on Linux, `export AUTOGRAPH_VERBOSITY=10`) and attach the full output.\n",
      "Cause: 'arguments' object has no attribute 'posonlyargs'\n",
      "To silence this warning, decorate the function with @tf.autograph.experimental.do_not_convert\n",
      "5281/5281 [==============================] - 26s 5ms/step - loss: 0.6722 - accuracy: 0.5739 - val_loss: 0.6578 - val_accuracy: 0.5908\n",
      "Epoch 2/14\n",
      "5281/5281 [==============================] - 25s 5ms/step - loss: 0.6558 - accuracy: 0.5893 - val_loss: 0.6525 - val_accuracy: 0.5826\n",
      "Epoch 3/14\n",
      "5281/5281 [==============================] - 26s 5ms/step - loss: 0.6511 - accuracy: 0.5935 - val_loss: 0.6526 - val_accuracy: 0.5753\n",
      "Epoch 4/14\n",
      "5281/5281 [==============================] - 26s 5ms/step - loss: 0.6488 - accuracy: 0.5966 - val_loss: 0.6475 - val_accuracy: 0.5988\n",
      "Epoch 5/14\n",
      "5281/5281 [==============================] - 26s 5ms/step - loss: 0.6470 - accuracy: 0.5991 - val_loss: 0.6467 - val_accuracy: 0.6013\n",
      "Epoch 6/14\n",
      "5281/5281 [==============================] - 26s 5ms/step - loss: 0.6456 - accuracy: 0.6004 - val_loss: 0.6474 - val_accuracy: 0.5961\n",
      "Epoch 7/14\n",
      "5281/5281 [==============================] - 26s 5ms/step - loss: 0.6446 - accuracy: 0.6027 - val_loss: 0.6465 - val_accuracy: 0.6022\n",
      "Epoch 8/14\n",
      "5281/5281 [==============================] - 27s 5ms/step - loss: 0.6441 - accuracy: 0.6033 - val_loss: 0.6462 - val_accuracy: 0.5979\n",
      "Epoch 9/14\n",
      "5281/5281 [==============================] - 27s 5ms/step - loss: 0.6433 - accuracy: 0.6047 - val_loss: 0.6454 - val_accuracy: 0.6045\n",
      "Epoch 10/14\n",
      "5281/5281 [==============================] - 26s 5ms/step - loss: 0.6429 - accuracy: 0.6048 - val_loss: 0.6447 - val_accuracy: 0.6047\n",
      "Epoch 11/14\n",
      "5281/5281 [==============================] - 26s 5ms/step - loss: 0.6419 - accuracy: 0.6061 - val_loss: 0.6446 - val_accuracy: 0.6056\n",
      "Epoch 12/14\n",
      "5281/5281 [==============================] - 25s 5ms/step - loss: 0.6413 - accuracy: 0.6067 - val_loss: 0.6448 - val_accuracy: 0.6046\n",
      "Epoch 13/14\n",
      "5281/5281 [==============================] - 25s 5ms/step - loss: 0.6404 - accuracy: 0.6083 - val_loss: 0.6451 - val_accuracy: 0.6062\n",
      "Epoch 14/14\n",
      "5281/5281 [==============================] - 25s 5ms/step - loss: 0.6393 - accuracy: 0.6093 - val_loss: 0.6455 - val_accuracy: 0.6047\n"
     ]
    },
    {
     "data": {
      "image/png": "[encoded data removed]",
      "text/plain": [
       "<Figure size 432x288 with 1 Axes>"
      ]
     },
     "metadata": {
      "needs_background": "light"
     },
     "output_type": "display_data"
    },
    {
     "data": {
      "image/png": "[encoded data removed]",
      "text/plain": [
       "<Figure size 432x288 with 1 Axes>"
      ]
     },
     "metadata": {
      "needs_background": "light"
     },
     "output_type": "display_data"
    }
   ],
   "source": [
    "split = int(len(X)*0.75)\n",
    "\n",
    "from sklearn.utils import shuffle\n",
    "X_, Y_ = shuffle(X[0:split], Y[0:split], random_state=0)\n",
    "\n",
    "hist = model.fit(X_, Y_, batch_size=128, epochs=14, validation_data=(X[split:len(X)], Y[split:len(Y)]),)\n",
    "\n",
    "plt.plot(hist.history[\"loss\"])\n",
    "plt.plot(hist.history[\"val_loss\"])\n",
    "plt.show()\n",
    "\n",
    "plt.plot(hist.history[\"accuracy\"])\n",
    "plt.plot(hist.history[\"val_accuracy\"])\n",
    "plt.show()"
   ]
  },
  {
   "cell_type": "code",
   "execution_count": 51,
   "metadata": {},
   "outputs": [],
   "source": [
    "model.save(\"model_ml.h5\")"
   ]
  },
  {
   "cell_type": "code",
   "execution_count": null,
   "metadata": {},
   "outputs": [],
   "source": []
  }
 ],
 "metadata": {
  "kernelspec": {
   "display_name": "Python 3.7.6 64-bit",
   "language": "python",
   "name": "python3"
  },
  "language_info": {
   "codemirror_mode": {
    "name": "ipython",
    "version": 3
   },
   "file_extension": ".py",
   "mimetype": "text/x-python",
   "name": "python",
   "nbconvert_exporter": "python",
   "pygments_lexer": "ipython3",
   "version": "3.7.6"
  },
  "orig_nbformat": 4,
  "vscode": {
   "interpreter": {
    "hash": "c34733ba855ebbe5594fccbcda88acaa56978c5cdcab412ff738665113ed6ee4"
   }
  }
 },
 "nbformat": 4,
 "nbformat_minor": 2
}
