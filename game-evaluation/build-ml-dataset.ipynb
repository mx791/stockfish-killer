{
 "cells": [
  {
   "cell_type": "code",
   "execution_count": 1,
   "metadata": {},
   "outputs": [],
   "source": [
    "import matplotlib.pyplot as plt\n",
    "import chess.pgn\n",
    "import numpy as np \n",
    "import chess\n",
    "\n",
    "pgn = open(\"D:\\\\projets\\\\chess\\\\data\\\\lichess_elite_2020-06.pgn\")"
   ]
  },
  {
   "cell_type": "code",
   "execution_count": 2,
   "metadata": {},
   "outputs": [],
   "source": [
    "def get_base_vect(size):\n",
    "    arr = [0 for i in range(size)]\n",
    "    return np.array(arr)\n",
    "\n",
    "def get_vect(board):\n",
    "    pieces = [chess.PAWN, chess.KNIGHT, chess.BISHOP, chess.ROOK, chess.QUEEN, chess.KING]\n",
    "    colors = [chess.WHITE, chess.BLACK]\n",
    "    vect = get_base_vect(len(pieces)*2*64)\n",
    "    for i in range(len(colors)):\n",
    "        for e in range(len(pieces)):\n",
    "            lst = board.pieces(color=colors[i], piece_type=pieces[e])\n",
    "            for position in lst:\n",
    "                vect[position*len(pieces)*2 + i*len(pieces) + e] = 1\n",
    "    return vect"
   ]
  },
  {
   "cell_type": "code",
   "execution_count": 3,
   "metadata": {},
   "outputs": [
    {
     "name": "stdout",
     "output_type": "stream",
     "text": [
      "73856\n"
     ]
    }
   ],
   "source": [
    "X, Y = [], []\n",
    "Y_ = []\n",
    "\n",
    "for i in range(1000):\n",
    "   game = chess.pgn.read_game(pgn)\n",
    "   if game.headers[\"Result\"] == \"1/2-1/2\":\n",
    "      continue\n",
    "   winner = 0\n",
    "   y_ = 0\n",
    "   if game.headers[\"Result\"] == \"1-0\":\n",
    "      y_ = 1 \n",
    "   if game.headers[\"Result\"] == \"0-1\":\n",
    "      y_ = 2\n",
    "\n",
    "   vectY = np.zeros(3)\n",
    "   vectY[y_] = 1\n",
    "   board = game.board()\n",
    "\n",
    "   for move in game.mainline_moves():\n",
    "      board.push(move)\n",
    "      vect = get_vect(board)\n",
    "      X.append(vect)\n",
    "      Y.append(y_)\n",
    "      Y_.append(vectY)\n",
    "\n",
    "print(len(X))"
   ]
  },
  {
   "cell_type": "code",
   "execution_count": 4,
   "metadata": {},
   "outputs": [
    {
     "name": "stdout",
     "output_type": "stream",
     "text": [
      "(73856, 768)\n",
      "(73856,)\n"
     ]
    }
   ],
   "source": [
    "X = np.array(X)\n",
    "Y = np.array(Y)\n",
    "Y1 = np.array(Y_)\n",
    "\n",
    "print(X.shape)\n",
    "print(Y.shape)"
   ]
  },
  {
   "cell_type": "code",
   "execution_count": 15,
   "metadata": {},
   "outputs": [
    {
     "name": "stdout",
     "output_type": "stream",
     "text": [
      "Model: \"sequential_5\"\n",
      "_________________________________________________________________\n",
      " Layer (type)                Output Shape              Param #   \n",
      "=================================================================\n",
      " dense_14 (Dense)            (None, 92)                70748     \n",
      "                                                                 \n",
      " dense_15 (Dense)            (None, 3)                 279       \n",
      "                                                                 \n",
      "=================================================================\n",
      "Total params: 71,027\n",
      "Trainable params: 71,027\n",
      "Non-trainable params: 0\n",
      "_________________________________________________________________\n"
     ]
    }
   ],
   "source": [
    "import tensorflow.keras as keras\n",
    "\n",
    "model = keras.Sequential()\n",
    "#  kernel_regularizer=keras.regularizers.L1(0.001)\n",
    "model.add(keras.layers.Dense(92, activation=\"relu\", kernel_regularizer=keras.regularizers.L1(0.0001), input_shape=(len(X[0]),)))\n",
    "#model.add(keras.layers.Dense(32, kernel_regularizer=keras.regularizers.L1(0.0001), activation=\"relu\"))\n",
    "model.add(keras.layers.Dense(3, activation=\"softmax\"))\n",
    "\n",
    "opt = keras.optimizers.Adam(learning_rate=0.0001)\n",
    "model.compile(loss='categorical_crossentropy', optimizer=opt, metrics=[\"accuracy\"])\n",
    "\n",
    "model.summary()"
   ]
  },
  {
   "cell_type": "code",
   "execution_count": 16,
   "metadata": {},
   "outputs": [
    {
     "name": "stdout",
     "output_type": "stream",
     "text": [
      "Epoch 1/40\n",
      "433/433 [==============================] - 2s 3ms/step - loss: 1.0507 - accuracy: 0.5286 - val_loss: 0.9063 - val_accuracy: 0.5854\n",
      "Epoch 2/40\n",
      "433/433 [==============================] - 1s 3ms/step - loss: 0.8493 - accuracy: 0.6139 - val_loss: 0.8050 - val_accuracy: 0.6267\n",
      "Epoch 3/40\n",
      "433/433 [==============================] - 1s 3ms/step - loss: 0.7733 - accuracy: 0.6461 - val_loss: 0.7527 - val_accuracy: 0.6449\n",
      "Epoch 4/40\n",
      "433/433 [==============================] - 1s 2ms/step - loss: 0.7302 - accuracy: 0.6648 - val_loss: 0.7205 - val_accuracy: 0.6601\n",
      "Epoch 5/40\n",
      "433/433 [==============================] - 1s 3ms/step - loss: 0.7013 - accuracy: 0.6809 - val_loss: 0.6977 - val_accuracy: 0.6712\n",
      "Epoch 6/40\n",
      "433/433 [==============================] - 1s 3ms/step - loss: 0.6792 - accuracy: 0.6939 - val_loss: 0.6791 - val_accuracy: 0.6822\n",
      "Epoch 7/40\n",
      "433/433 [==============================] - 1s 3ms/step - loss: 0.6605 - accuracy: 0.7069 - val_loss: 0.6625 - val_accuracy: 0.6938\n",
      "Epoch 8/40\n",
      "433/433 [==============================] - 1s 2ms/step - loss: 0.6437 - accuracy: 0.7187 - val_loss: 0.6477 - val_accuracy: 0.7059\n",
      "Epoch 9/40\n",
      "433/433 [==============================] - 1s 2ms/step - loss: 0.6282 - accuracy: 0.7311 - val_loss: 0.6338 - val_accuracy: 0.7189\n",
      "Epoch 10/40\n",
      "433/433 [==============================] - 1s 3ms/step - loss: 0.6132 - accuracy: 0.7434 - val_loss: 0.6204 - val_accuracy: 0.7290\n",
      "Epoch 11/40\n",
      "433/433 [==============================] - 1s 3ms/step - loss: 0.5990 - accuracy: 0.7549 - val_loss: 0.6095 - val_accuracy: 0.7363\n",
      "Epoch 12/40\n",
      "433/433 [==============================] - 1s 2ms/step - loss: 0.5853 - accuracy: 0.7647 - val_loss: 0.5951 - val_accuracy: 0.7497\n",
      "Epoch 13/40\n",
      "433/433 [==============================] - 1s 3ms/step - loss: 0.5718 - accuracy: 0.7757 - val_loss: 0.5831 - val_accuracy: 0.7593\n",
      "Epoch 14/40\n",
      "433/433 [==============================] - 1s 2ms/step - loss: 0.5589 - accuracy: 0.7842 - val_loss: 0.5718 - val_accuracy: 0.7674\n",
      "Epoch 15/40\n",
      "433/433 [==============================] - 1s 3ms/step - loss: 0.5466 - accuracy: 0.7927 - val_loss: 0.5594 - val_accuracy: 0.7764\n",
      "Epoch 16/40\n",
      "433/433 [==============================] - 1s 3ms/step - loss: 0.5345 - accuracy: 0.8022 - val_loss: 0.5486 - val_accuracy: 0.7850\n",
      "Epoch 17/40\n",
      "433/433 [==============================] - 1s 3ms/step - loss: 0.5230 - accuracy: 0.8080 - val_loss: 0.5382 - val_accuracy: 0.7926\n",
      "Epoch 18/40\n",
      "433/433 [==============================] - 1s 3ms/step - loss: 0.5119 - accuracy: 0.8158 - val_loss: 0.5282 - val_accuracy: 0.7983\n",
      "Epoch 19/40\n",
      "433/433 [==============================] - 1s 2ms/step - loss: 0.5013 - accuracy: 0.8237 - val_loss: 0.5188 - val_accuracy: 0.8050\n",
      "Epoch 20/40\n",
      "433/433 [==============================] - 1s 3ms/step - loss: 0.4909 - accuracy: 0.8293 - val_loss: 0.5098 - val_accuracy: 0.8089\n",
      "Epoch 21/40\n",
      "433/433 [==============================] - 1s 2ms/step - loss: 0.4812 - accuracy: 0.8343 - val_loss: 0.5008 - val_accuracy: 0.8156\n",
      "Epoch 22/40\n",
      "433/433 [==============================] - 1s 3ms/step - loss: 0.4716 - accuracy: 0.8417 - val_loss: 0.4921 - val_accuracy: 0.8221\n",
      "Epoch 23/40\n",
      "433/433 [==============================] - 1s 3ms/step - loss: 0.4628 - accuracy: 0.8462 - val_loss: 0.4844 - val_accuracy: 0.8258\n",
      "Epoch 24/40\n",
      "433/433 [==============================] - 1s 3ms/step - loss: 0.4541 - accuracy: 0.8512 - val_loss: 0.4762 - val_accuracy: 0.8314\n",
      "Epoch 25/40\n",
      "433/433 [==============================] - 1s 3ms/step - loss: 0.4458 - accuracy: 0.8554 - val_loss: 0.4686 - val_accuracy: 0.8344\n",
      "Epoch 26/40\n",
      "433/433 [==============================] - 1s 3ms/step - loss: 0.4378 - accuracy: 0.8597 - val_loss: 0.4621 - val_accuracy: 0.8396\n",
      "Epoch 27/40\n",
      "433/433 [==============================] - 1s 3ms/step - loss: 0.4303 - accuracy: 0.8631 - val_loss: 0.4550 - val_accuracy: 0.8438\n",
      "Epoch 28/40\n",
      "433/433 [==============================] - 1s 3ms/step - loss: 0.4231 - accuracy: 0.8670 - val_loss: 0.4496 - val_accuracy: 0.8454\n",
      "Epoch 29/40\n",
      "433/433 [==============================] - 1s 3ms/step - loss: 0.4165 - accuracy: 0.8703 - val_loss: 0.4421 - val_accuracy: 0.8509\n",
      "Epoch 30/40\n",
      "433/433 [==============================] - 1s 3ms/step - loss: 0.4098 - accuracy: 0.8734 - val_loss: 0.4362 - val_accuracy: 0.8536\n",
      "Epoch 31/40\n",
      "433/433 [==============================] - 1s 3ms/step - loss: 0.4035 - accuracy: 0.8769 - val_loss: 0.4309 - val_accuracy: 0.8558\n",
      "Epoch 32/40\n",
      "433/433 [==============================] - 1s 3ms/step - loss: 0.3974 - accuracy: 0.8797 - val_loss: 0.4252 - val_accuracy: 0.8585\n",
      "Epoch 33/40\n",
      "433/433 [==============================] - 1s 2ms/step - loss: 0.3915 - accuracy: 0.8818 - val_loss: 0.4220 - val_accuracy: 0.8597\n",
      "Epoch 34/40\n",
      "433/433 [==============================] - 1s 3ms/step - loss: 0.3864 - accuracy: 0.8842 - val_loss: 0.4157 - val_accuracy: 0.8618\n",
      "Epoch 35/40\n",
      "433/433 [==============================] - 1s 2ms/step - loss: 0.3809 - accuracy: 0.8877 - val_loss: 0.4105 - val_accuracy: 0.8660\n",
      "Epoch 36/40\n",
      "433/433 [==============================] - 1s 2ms/step - loss: 0.3756 - accuracy: 0.8902 - val_loss: 0.4070 - val_accuracy: 0.8648\n",
      "Epoch 37/40\n",
      "433/433 [==============================] - 1s 2ms/step - loss: 0.3708 - accuracy: 0.8910 - val_loss: 0.4022 - val_accuracy: 0.8683\n",
      "Epoch 38/40\n",
      "433/433 [==============================] - 1s 2ms/step - loss: 0.3664 - accuracy: 0.8934 - val_loss: 0.3982 - val_accuracy: 0.8696\n",
      "Epoch 39/40\n",
      "433/433 [==============================] - 1s 2ms/step - loss: 0.3617 - accuracy: 0.8960 - val_loss: 0.3939 - val_accuracy: 0.8718\n",
      "Epoch 40/40\n",
      "433/433 [==============================] - 1s 2ms/step - loss: 0.3575 - accuracy: 0.8968 - val_loss: 0.3898 - val_accuracy: 0.8739\n"
     ]
    },
    {
     "data": {
      "image/png": "[encoded data removed]",
      "text/plain": [
       "<Figure size 432x288 with 1 Axes>"
      ]
     },
     "metadata": {
      "needs_background": "light"
     },
     "output_type": "display_data"
    },
    {
     "data": {
      "image/png": "[encoded data removed]",
      "text/plain": [
       "<Figure size 432x288 with 1 Axes>"
      ]
     },
     "metadata": {
      "needs_background": "light"
     },
     "output_type": "display_data"
    }
   ],
   "source": [
    "split = int(len(X)*0.75)\n",
    "\n",
    "from sklearn.utils import shuffle\n",
    "X, Y1 = shuffle(X, Y1, random_state=0)\n",
    "\n",
    "hist = model.fit(X[0:split], Y1[0:split], batch_size=128, epochs=40, validation_data=(X[split:len(X)], Y1[split:len(Y)]),)\n",
    "\n",
    "plt.plot(hist.history[\"loss\"])\n",
    "plt.plot(hist.history[\"val_loss\"])\n",
    "plt.show()\n",
    "\n",
    "plt.plot(hist.history[\"accuracy\"])\n",
    "plt.plot(hist.history[\"val_accuracy\"])\n",
    "plt.show()"
   ]
  },
  {
   "cell_type": "code",
   "execution_count": null,
   "metadata": {},
   "outputs": [],
   "source": []
  }
 ],
 "metadata": {
  "kernelspec": {
   "display_name": "Python 3.9.0 64-bit",
   "language": "python",
   "name": "python3"
  },
  "language_info": {
   "codemirror_mode": {
    "name": "ipython",
    "version": 3
   },
   "file_extension": ".py",
   "mimetype": "text/x-python",
   "name": "python",
   "nbconvert_exporter": "python",
   "pygments_lexer": "ipython3",
   "version": "3.9.0"
  },
  "orig_nbformat": 4,
  "vscode": {
   "interpreter": {
    "hash": "c159ff16639e7709a56ca81ec8afaaa6150482356dfb759e7600fe6e8560a2a8"
   }
  }
 },
 "nbformat": 4,
 "nbformat_minor": 2
}
