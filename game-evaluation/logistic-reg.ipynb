{
 "cells": [
  {
   "cell_type": "code",
   "execution_count": 13,
   "metadata": {},
   "outputs": [],
   "source": [
    "import numpy as np\n",
    "from sklearn.utils import shuffle\n",
    "import matplotlib.pyplot as plt\n",
    "import tensorflow.keras as keras"
   ]
  },
  {
   "cell_type": "code",
   "execution_count": 80,
   "metadata": {},
   "outputs": [
    {
     "name": "stdout",
     "output_type": "stream",
     "text": [
      "(3331358, 768) (3331358, 1)\n"
     ]
    }
   ],
   "source": [
    "X = np.load(\"F:\\\\Dataset\\\\chess\\\\X.npy\")\n",
    "Y = np.load(\"F:\\\\Dataset\\\\chess\\\\Y.npy\")\n",
    "\n",
    "print(X.shape, Y.shape)\n",
    "Y = Y.reshape((-1,1))"
   ]
  },
  {
   "cell_type": "code",
   "execution_count": 69,
   "metadata": {},
   "outputs": [
    {
     "name": "stdout",
     "output_type": "stream",
     "text": [
      "(2138288, 1)\n"
     ]
    },
    {
     "data": {
      "text/plain": [
       "(array([1028511.,       0.,       0.,       0.,       0.,       0.,\n",
       "              0.,       0.,       0., 1109777.]),\n",
       " array([0. , 0.1, 0.2, 0.3, 0.4, 0.5, 0.6, 0.7, 0.8, 0.9, 1. ]),\n",
       " <a list of 10 Patch objects>)"
      ]
     },
     "execution_count": 69,
     "metadata": {},
     "output_type": "execute_result"
    },
    {
     "data": {
      "image/png": "[encoded data removed]",
      "text/plain": [
       "<Figure size 432x288 with 1 Axes>"
      ]
     },
     "metadata": {
      "needs_background": "light"
     },
     "output_type": "display_data"
    }
   ],
   "source": [
    "#Y = (np.argmax(Y, axis=1) == 1) * 1.0\n",
    "print(Y.shape)\n",
    "plt.hist(Y)"
   ]
  },
  {
   "cell_type": "code",
   "execution_count": 56,
   "metadata": {},
   "outputs": [
    {
     "name": "stdout",
     "output_type": "stream",
     "text": [
      "Model: \"sequential_7\"\n",
      "_________________________________________________________________\n",
      " Layer (type)                Output Shape              Param #   \n",
      "=================================================================\n",
      " dense_7 (Dense)             (None, 1)                 769       \n",
      "                                                                 \n",
      "=================================================================\n",
      "Total params: 769\n",
      "Trainable params: 769\n",
      "Non-trainable params: 0\n",
      "_________________________________________________________________\n"
     ]
    }
   ],
   "source": [
    "model = keras.Sequential()\n",
    "model.add(keras.layers.Dense(1, activation=\"sigmoid\",  kernel_initializer=keras.initializers.Zeros(), input_shape=(len(X[0]),)))\n",
    "opt = keras.optimizers.Adam(learning_rate=0.01)\n",
    "#model.compile(loss='binary_crossentropy', optimizer=opt, metrics=[\"accuracy\"])\n",
    "model.compile(loss='binary_crossentropy', metrics=[\"accuracy\"])\n",
    "\n",
    "model.summary()"
   ]
  },
  {
   "cell_type": "code",
   "execution_count": 57,
   "metadata": {},
   "outputs": [
    {
     "name": "stdout",
     "output_type": "stream",
     "text": [
      "Epoch 1/20\n",
      "WARNING:tensorflow:AutoGraph could not transform <function Model.make_train_function.<locals>.train_function at 0x000001E5C4DCB9D8> and will run it as-is.\n",
      "Please report this to the TensorFlow team. When filing the bug, set the verbosity to 10 (on Linux, `export AUTOGRAPH_VERBOSITY=10`) and attach the full output.\n",
      "Cause: 'arguments' object has no attribute 'posonlyargs'\n",
      "To silence this warning, decorate the function with @tf.autograph.experimental.do_not_convert\n",
      "WARNING: AutoGraph could not transform <function Model.make_train_function.<locals>.train_function at 0x000001E5C4DCB9D8> and will run it as-is.\n",
      "Please report this to the TensorFlow team. When filing the bug, set the verbosity to 10 (on Linux, `export AUTOGRAPH_VERBOSITY=10`) and attach the full output.\n",
      "Cause: 'arguments' object has no attribute 'posonlyargs'\n",
      "To silence this warning, decorate the function with @tf.autograph.experimental.do_not_convert\n",
      "8407/8429 [============================>.] - ETA: 0s - loss: 0.6680 - accuracy: 0.5843WARNING:tensorflow:AutoGraph could not transform <function Model.make_test_function.<locals>.test_function at 0x000001E5C5F5F948> and will run it as-is.\n",
      "Please report this to the TensorFlow team. When filing the bug, set the verbosity to 10 (on Linux, `export AUTOGRAPH_VERBOSITY=10`) and attach the full output.\n",
      "Cause: 'arguments' object has no attribute 'posonlyargs'\n",
      "To silence this warning, decorate the function with @tf.autograph.experimental.do_not_convert\n",
      "WARNING: AutoGraph could not transform <function Model.make_test_function.<locals>.test_function at 0x000001E5C5F5F948> and will run it as-is.\n",
      "Please report this to the TensorFlow team. When filing the bug, set the verbosity to 10 (on Linux, `export AUTOGRAPH_VERBOSITY=10`) and attach the full output.\n",
      "Cause: 'arguments' object has no attribute 'posonlyargs'\n",
      "To silence this warning, decorate the function with @tf.autograph.experimental.do_not_convert\n",
      "8429/8429 [==============================] - 13s 2ms/step - loss: 0.6680 - accuracy: 0.5843 - val_loss: 0.6694 - val_accuracy: 0.5744\n",
      "Epoch 2/20\n",
      "8429/8429 [==============================] - 12s 1ms/step - loss: 0.6578 - accuracy: 0.5940 - val_loss: 0.6660 - val_accuracy: 0.5779\n",
      "Epoch 3/20\n",
      "8429/8429 [==============================] - 12s 1ms/step - loss: 0.6544 - accuracy: 0.5977 - val_loss: 0.6640 - val_accuracy: 0.5799\n",
      "Epoch 4/20\n",
      "8429/8429 [==============================] - 12s 1ms/step - loss: 0.6520 - accuracy: 0.5998 - val_loss: 0.6623 - val_accuracy: 0.5828\n",
      "Epoch 5/20\n",
      "8429/8429 [==============================] - 12s 1ms/step - loss: 0.6503 - accuracy: 0.6021 - val_loss: 0.6608 - val_accuracy: 0.5826\n",
      "Epoch 6/20\n",
      "8429/8429 [==============================] - 12s 1ms/step - loss: 0.6489 - accuracy: 0.6041 - val_loss: 0.6594 - val_accuracy: 0.5898\n",
      "Epoch 7/20\n",
      "8429/8429 [==============================] - 12s 1ms/step - loss: 0.6480 - accuracy: 0.6050 - val_loss: 0.6576 - val_accuracy: 0.5901\n",
      "Epoch 8/20\n",
      "8429/8429 [==============================] - 12s 1ms/step - loss: 0.6472 - accuracy: 0.6064 - val_loss: 0.6577 - val_accuracy: 0.5901\n",
      "Epoch 9/20\n",
      "8429/8429 [==============================] - 12s 1ms/step - loss: 0.6466 - accuracy: 0.6070 - val_loss: 0.6573 - val_accuracy: 0.5894\n",
      "Epoch 10/20\n",
      "8429/8429 [==============================] - 12s 1ms/step - loss: 0.6461 - accuracy: 0.6081 - val_loss: 0.6565 - val_accuracy: 0.5912\n",
      "Epoch 11/20\n",
      "8429/8429 [==============================] - 12s 1ms/step - loss: 0.6458 - accuracy: 0.6088 - val_loss: 0.6559 - val_accuracy: 0.5924\n",
      "Epoch 12/20\n",
      "8429/8429 [==============================] - 12s 1ms/step - loss: 0.6455 - accuracy: 0.6091 - val_loss: 0.6553 - val_accuracy: 0.5941\n",
      "Epoch 13/20\n",
      "8429/8429 [==============================] - 12s 1ms/step - loss: 0.6453 - accuracy: 0.6095 - val_loss: 0.6555 - val_accuracy: 0.5943\n",
      "Epoch 14/20\n",
      "8429/8429 [==============================] - 12s 1ms/step - loss: 0.6451 - accuracy: 0.6098 - val_loss: 0.6549 - val_accuracy: 0.5959\n",
      "Epoch 15/20\n",
      "8429/8429 [==============================] - 12s 1ms/step - loss: 0.6450 - accuracy: 0.6104 - val_loss: 0.6560 - val_accuracy: 0.5969\n",
      "Epoch 16/20\n",
      "8429/8429 [==============================] - 12s 1ms/step - loss: 0.6450 - accuracy: 0.6106 - val_loss: 0.6551 - val_accuracy: 0.5985\n",
      "Epoch 17/20\n",
      "8429/8429 [==============================] - 12s 1ms/step - loss: 0.6449 - accuracy: 0.6109 - val_loss: 0.6546 - val_accuracy: 0.5966\n",
      "Epoch 18/20\n",
      "8429/8429 [==============================] - 12s 1ms/step - loss: 0.6448 - accuracy: 0.6114 - val_loss: 0.6551 - val_accuracy: 0.5929\n",
      "Epoch 19/20\n",
      "8429/8429 [==============================] - 12s 1ms/step - loss: 0.6449 - accuracy: 0.6118 - val_loss: 0.6556 - val_accuracy: 0.5984\n",
      "Epoch 20/20\n",
      "8429/8429 [==============================] - 12s 1ms/step - loss: 0.6449 - accuracy: 0.6121 - val_loss: 0.6548 - val_accuracy: 0.5976\n"
     ]
    }
   ],
   "source": [
    "split = int(len(X)*0.75)\n",
    "X_, Y_ = shuffle(X[0:split], Y[0:split], random_state=0)\n",
    "\n",
    "hist = model.fit(X_, Y_, batch_size=128, epochs=20, validation_data=(X[split:len(X)], Y[split:len(Y)]),)"
   ]
  },
  {
   "cell_type": "code",
   "execution_count": 58,
   "metadata": {},
   "outputs": [
    {
     "data": {
      "image/png": "[encoded data removed]",
      "text/plain": [
       "<Figure size 432x288 with 1 Axes>"
      ]
     },
     "metadata": {
      "needs_background": "light"
     },
     "output_type": "display_data"
    },
    {
     "data": {
      "image/png": "[encoded data removed]",
      "text/plain": [
       "<Figure size 432x288 with 1 Axes>"
      ]
     },
     "metadata": {
      "needs_background": "light"
     },
     "output_type": "display_data"
    }
   ],
   "source": [
    "plt.title(\"Loss over time\")\n",
    "plt.plot(hist.history[\"loss\"], label=\"Train loss\")\n",
    "plt.plot(hist.history[\"val_loss\"], label=\"Validation loss\")\n",
    "plt.legend()\n",
    "plt.show()\n",
    "\n",
    "plt.title(\"Accuracy over time\")\n",
    "plt.plot(hist.history[\"accuracy\"], label=\"Train accuracy\")\n",
    "plt.plot(hist.history[\"val_accuracy\"], label=\"Validation accuracy\")\n",
    "plt.legend()\n",
    "plt.show()"
   ]
  },
  {
   "cell_type": "code",
   "execution_count": 59,
   "metadata": {},
   "outputs": [],
   "source": [
    "model.save(\"./reg-log.h5\")"
   ]
  },
  {
   "cell_type": "code",
   "execution_count": 85,
   "metadata": {},
   "outputs": [
    {
     "name": "stdout",
     "output_type": "stream",
     "text": [
      "pions\n"
     ]
    },
    {
     "data": {
      "text/plain": [
       "<matplotlib.axes._subplots.AxesSubplot at 0x1e5bd50c888>"
      ]
     },
     "execution_count": 85,
     "metadata": {},
     "output_type": "execute_result"
    },
    {
     "data": {
      "image/png": "[encoded data removed]",
      "text/plain": [
       "<Figure size 432x288 with 2 Axes>"
      ]
     },
     "metadata": {
      "needs_background": "light"
     },
     "output_type": "display_data"
    }
   ],
   "source": [
    "import seaborn as sns\n",
    "import pandas as pd\n",
    "\n",
    "print(\"pions\")\n",
    "#mat = model.get_weights()[0].reshape(8,8,12)[:,:,0]\n",
    "mat = mod.coef_.reshape(8,8,12)[:,:,0]\n",
    "sns.heatmap(pd.DataFrame(mat))"
   ]
  },
  {
   "cell_type": "code",
   "execution_count": 65,
   "metadata": {},
   "outputs": [
    {
     "name": "stdout",
     "output_type": "stream",
     "text": [
      "569578 0.6004786303160647\n",
      "WARNING:tensorflow:AutoGraph could not transform <function Model.make_predict_function.<locals>.predict_function at 0x000001E5BD8A5798> and will run it as-is.\n",
      "Please report this to the TensorFlow team. When filing the bug, set the verbosity to 10 (on Linux, `export AUTOGRAPH_VERBOSITY=10`) and attach the full output.\n",
      "Cause: 'arguments' object has no attribute 'posonlyargs'\n",
      "To silence this warning, decorate the function with @tf.autograph.experimental.do_not_convert\n",
      "WARNING: AutoGraph could not transform <function Model.make_predict_function.<locals>.predict_function at 0x000001E5BD8A5798> and will run it as-is.\n",
      "Please report this to the TensorFlow team. When filing the bug, set the verbosity to 10 (on Linux, `export AUTOGRAPH_VERBOSITY=10`) and attach the full output.\n",
      "Cause: 'arguments' object has no attribute 'posonlyargs'\n",
      "To silence this warning, decorate the function with @tf.autograph.experimental.do_not_convert\n",
      "568821 0.5996805617053577\n"
     ]
    }
   ],
   "source": [
    "weights = []\n",
    "for i in range(64):\n",
    "    weights.append([1.0, 3.0, 3.0, 5.0, 9.0, 0.0, -1.0, -3.0, -3.0, -5.0, -9.0, -0.0])\n",
    "weights = np.array(weights).reshape((8,8,-1))\n",
    "\n",
    "weights = np.array(weights).reshape((-1))\n",
    "\n",
    "preds = X @ weights\n",
    "out = 1.0 / (1.0 + np.exp(-preds))\n",
    "acc = 0\n",
    "for i in range(len(preds)):\n",
    "    pred = 1 if out[i] >= 0.5 else 0\n",
    "    if pred == Y[i]:\n",
    "        acc += 1\n",
    "\n",
    "print(acc, acc / len(preds))\n",
    "\n",
    "good = 0\n",
    "preds = model.predict(X)\n",
    "for i in range(len(preds)):\n",
    "    if (preds[i][0] > 0.5 and Y[i][0]) == 1.0 or (preds[i][0] < 0.5 and Y[i][0] == 0.0):\n",
    "        good += 1\n",
    "\n",
    "print(good, good/len(preds))"
   ]
  },
  {
   "cell_type": "code",
   "execution_count": 82,
   "metadata": {},
   "outputs": [
    {
     "name": "stderr",
     "output_type": "stream",
     "text": [
      "c:\\Users\\Utilisateur\\AppData\\Local\\Programs\\Python\\Python37\\lib\\site-packages\\sklearn\\utils\\validation.py:760: DataConversionWarning: A column-vector y was passed when a 1d array was expected. Please change the shape of y to (n_samples, ), for example using ravel().\n",
      "  y = column_or_1d(y, warn=True)\n",
      "c:\\Users\\Utilisateur\\AppData\\Local\\Programs\\Python\\Python37\\lib\\site-packages\\sklearn\\linear_model\\_logistic.py:940: ConvergenceWarning: lbfgs failed to converge (status=1):\n",
      "STOP: TOTAL NO. of ITERATIONS REACHED LIMIT.\n",
      "\n",
      "Increase the number of iterations (max_iter) or scale the data as shown in:\n",
      "    https://scikit-learn.org/stable/modules/preprocessing.html\n",
      "Please also refer to the documentation for alternative solver options:\n",
      "    https://scikit-learn.org/stable/modules/linear_model.html#logistic-regression\n",
      "  extra_warning_msg=_LOGISTIC_SOLVER_CONVERGENCE_MSG)\n"
     ]
    },
    {
     "name": "stdout",
     "output_type": "stream",
     "text": [
      "0.6074096509591584\n"
     ]
    }
   ],
   "source": [
    "from sklearn.linear_model import LogisticRegression\n",
    "\n",
    "mod = LogisticRegression().fit(X[0:split], Y[0:split])\n",
    "print(mod.score(X, Y))"
   ]
  },
  {
   "cell_type": "code",
   "execution_count": 83,
   "metadata": {},
   "outputs": [
    {
     "data": {
      "text/plain": [
       "['./reg-log']"
      ]
     },
     "execution_count": 83,
     "metadata": {},
     "output_type": "execute_result"
    }
   ],
   "source": [
    "from joblib import dump, load\n",
    "\n",
    "dump(mod, \"./reg-log\")"
   ]
  },
  {
   "cell_type": "code",
   "execution_count": null,
   "metadata": {},
   "outputs": [],
   "source": []
  }
 ],
 "metadata": {
  "kernelspec": {
   "display_name": "Python 3.7.6 64-bit",
   "language": "python",
   "name": "python3"
  },
  "language_info": {
   "codemirror_mode": {
    "name": "ipython",
    "version": 3
   },
   "file_extension": ".py",
   "mimetype": "text/x-python",
   "name": "python",
   "nbconvert_exporter": "python",
   "pygments_lexer": "ipython3",
   "version": "3.7.6"
  },
  "orig_nbformat": 4,
  "vscode": {
   "interpreter": {
    "hash": "c34733ba855ebbe5594fccbcda88acaa56978c5cdcab412ff738665113ed6ee4"
   }
  }
 },
 "nbformat": 4,
 "nbformat_minor": 2
}
