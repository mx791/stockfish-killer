{
 "cells": [
  {
   "cell_type": "code",
   "execution_count": 2,
   "metadata": {},
   "outputs": [],
   "source": [
    "import matplotlib.pyplot as plt\n",
    "import chess.pgn"
   ]
  },
  {
   "cell_type": "code",
   "execution_count": 3,
   "metadata": {},
   "outputs": [],
   "source": [
    "def count_value_(board, color):\n",
    "    val = 0\n",
    "    val += len(board.pieces(color=color, piece_type=chess.PAWN))\n",
    "    val += len(board.pieces(color=color, piece_type=chess.KNIGHT))*3\n",
    "    val += len(board.pieces(color=color, piece_type=chess.BISHOP))*3\n",
    "    val += len(board.pieces(color=color, piece_type=chess.ROOK))*5\n",
    "    val += len(board.pieces(color=color, piece_type=chess.QUEEN))*9\n",
    "\n",
    "    return val"
   ]
  },
  {
   "cell_type": "code",
   "execution_count": 4,
   "metadata": {},
   "outputs": [
    {
     "name": "stdout",
     "output_type": "stream",
     "text": [
      "nombre de points 5286604\n"
     ]
    },
    {
     "data": {
      "image/png": "[encoded data removed]",
      "text/plain": [
       "<Figure size 648x432 with 1 Axes>"
      ]
     },
     "metadata": {
      "needs_background": "light"
     },
     "output_type": "display_data"
    },
    {
     "data": {
      "image/png": "[encoded data removed]",
      "text/plain": [
       "<Figure size 432x288 with 1 Axes>"
      ]
     },
     "metadata": {
      "needs_background": "light"
     },
     "output_type": "display_data"
    }
   ],
   "source": [
    "%%time\n",
    "diffs = []\n",
    "xs = []\n",
    "\n",
    "pgn = open(\"D:\\\\projets\\\\chess\\\\data\\\\lichess_elite_2020-06.pgn\")\n",
    "\n",
    "good_pred = {}\n",
    "tt_pred = {}\n",
    "good = 0\n",
    "values_count = 0\n",
    "\n",
    "for i in range(150000):\n",
    "    game = chess.pgn.read_game(pgn)\n",
    "    if game.headers[\"Result\"] == \"1/2-1/2\":\n",
    "        continue\n",
    "    winner = 1 if game.headers[\"Result\"] == \"1-0\" else 2\n",
    "    board = game.board()\n",
    "    counter = 0\n",
    "    for move in game.mainline_moves():\n",
    "        board.push(move)\n",
    "        counter+=1\n",
    "\n",
    "        white_value = count_value_(board, chess.WHITE)\n",
    "        black_value = count_value_(board, chess.BLACK)\n",
    "        #white_value = count_value(board.__str__(), values_w)\n",
    "        #black_value = count_value(board.__str__(), values_b)\n",
    "        diff = abs(white_value - black_value)\n",
    "        if diff != 0:\n",
    "            diffs.append(diff)\n",
    "            xs.append(counter)\n",
    "\n",
    "            if white_value > black_value and winner == 1:\n",
    "                good_pred[diff] = good_pred[diff]+1 if diff in good_pred else 1\n",
    "                good+=1\n",
    "            elif white_value < black_value and winner == 2:\n",
    "                good_pred[diff] = good_pred[diff]+1 if diff in good_pred else 1\n",
    "                good+=1\n",
    "            \n",
    "            tt_pred[diff] = tt_pred[diff]+1 if diff in tt_pred else 1\n",
    "            values_count += 1\n",
    "\n",
    "keys = [key for key in tt_pred]\n",
    "vals = [good_pred.get(key, 0) / tt_pred[key] for key in tt_pred]\n",
    "\n",
    "print(\"nombre de points\", values_count)\n",
    "print(\"accuracy:\", good/values_count)\n",
    "plt.figure(figsize=(9,6))\n",
    "plt.title(\"Probabilité de victoire en fonction de la différence de points\")\n",
    "plt.scatter(keys, vals)\n",
    "plt.show()\n",
    "\n",
    "plt.title(\"Nombre de points par tranche de différence\")\n",
    "plt.hist(diffs)\n",
    "plt.yscale('log')\n",
    "plt.show()"
   ]
  }
 ],
 "metadata": {
  "kernelspec": {
   "display_name": "Python 3.9.0 64-bit",
   "language": "python",
   "name": "python3"
  },
  "language_info": {
   "codemirror_mode": {
    "name": "ipython",
    "version": 3
   },
   "file_extension": ".py",
   "mimetype": "text/x-python",
   "name": "python",
   "nbconvert_exporter": "python",
   "pygments_lexer": "ipython3",
   "version": "3.9.0"
  },
  "orig_nbformat": 4,
  "vscode": {
   "interpreter": {
    "hash": "c159ff16639e7709a56ca81ec8afaaa6150482356dfb759e7600fe6e8560a2a8"
   }
  }
 },
 "nbformat": 4,
 "nbformat_minor": 2
}
