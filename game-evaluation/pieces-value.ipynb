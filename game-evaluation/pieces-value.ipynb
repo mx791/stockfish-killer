{
 "cells": [
  {
   "cell_type": "code",
   "execution_count": 2,
   "metadata": {},
   "outputs": [],
   "source": [
    "import matplotlib.pyplot as plt\n",
    "import chess.pgn"
   ]
  },
  {
   "cell_type": "code",
   "execution_count": 3,
   "metadata": {},
   "outputs": [],
   "source": [
    "def count_value_(board, color):\n",
    "    val = 0\n",
    "    val += len(board.pieces(color=color, piece_type=chess.PAWN))\n",
    "    val += len(board.pieces(color=color, piece_type=chess.KNIGHT))*3\n",
    "    val += len(board.pieces(color=color, piece_type=chess.BISHOP))*3\n",
    "    val += len(board.pieces(color=color, piece_type=chess.ROOK))*5\n",
    "    val += len(board.pieces(color=color, piece_type=chess.QUEEN))*9\n",
    "\n",
    "    return val"
   ]
  },
  {
   "cell_type": "code",
   "execution_count": 11,
   "metadata": {},
   "outputs": [
    {
     "ename": "AttributeError",
     "evalue": "'dict' object has no attribute 'sort'",
     "output_type": "error",
     "traceback": [
      "\u001b[1;31m---------------------------------------------------------------------------\u001b[0m",
      "\u001b[1;31mAttributeError\u001b[0m                            Traceback (most recent call last)",
      "File \u001b[1;32m<timed exec>:41\u001b[0m, in \u001b[0;36m<module>\u001b[1;34m\u001b[0m\n",
      "\u001b[1;31mAttributeError\u001b[0m: 'dict' object has no attribute 'sort'"
     ]
    }
   ],
   "source": [
    "%%time\n",
    "diffs = []\n",
    "xs = []\n",
    "\n",
    "pgn = open(\"D:\\\\projets\\\\chess\\\\data\\\\lichess_elite_2020-06.pgn\")\n",
    "\n",
    "good_pred = {}\n",
    "tt_pred = {}\n",
    "good = 0\n",
    "values_count = 0\n",
    "\n",
    "for i in range(1500):\n",
    "    game = chess.pgn.read_game(pgn)\n",
    "    if game.headers[\"Result\"] == \"1/2-1/2\":\n",
    "        continue\n",
    "    winner = 1 if game.headers[\"Result\"] == \"1-0\" else 2\n",
    "    board = game.board()\n",
    "    counter = 0\n",
    "    for move in game.mainline_moves():\n",
    "        board.push(move)\n",
    "        counter+=1\n",
    "\n",
    "        white_value = count_value_(board, chess.WHITE)\n",
    "        black_value = count_value_(board, chess.BLACK)\n",
    "        #white_value = count_value(board.__str__(), values_w)\n",
    "        #black_value = count_value(board.__str__(), values_b)\n",
    "        diff = abs(white_value - black_value)\n",
    "        if diff != 0:\n",
    "            diffs.append(diff)\n",
    "            xs.append(counter)\n",
    "\n",
    "            if white_value > black_value and winner == 1:\n",
    "                good_pred[diff] = good_pred[diff]+1 if diff in good_pred else 1\n",
    "                good+=1\n",
    "            elif white_value < black_value and winner == 2:\n",
    "                good_pred[diff] = good_pred[diff]+1 if diff in good_pred else 1\n",
    "                good+=1\n",
    "            \n",
    "            tt_pred[diff] = tt_pred[diff]+1 if diff in tt_pred else 1\n",
    "            values_count += 1\n",
    "\n",
    "keys = [key for key in tt_pred]\n",
    "vals = [good_pred.get(key, 0) / tt_pred[key] for key in tt_pred]\n",
    "\n",
    "print(\"nombre de points\", values_count)\n",
    "print(\"accuracy:\", good/values_count)\n",
    "plt.figure(figsize=(9,6))\n",
    "plt.title(\"Probabilité de victoire en fonction de la différence de points\")\n",
    "plt.plot(keys, vals)\n",
    "plt.show()\n",
    "\n",
    "plt.title(\"Nombre de points par tranche de différence\")\n",
    "plt.hist(diffs)\n",
    "plt.yscale('log')\n",
    "plt.show()"
   ]
  },
  {
   "cell_type": "code",
   "execution_count": 5,
   "metadata": {},
   "outputs": [
    {
     "name": "stdout",
     "output_type": "stream",
     "text": [
      "[] [[1 2]\n",
      " [3 4]]\n"
     ]
    }
   ],
   "source": [
    "from scipy import signal\n",
    "import numpy as np\n",
    "\n",
    "recorded = [[1, 2], [3, 4]]\n",
    "filter = [[1, 0, -1], [1, 0, -1], [1, 0, -1]]\n",
    "recovered, remainder = signal.deconvolve(np.matrix(recorded), np.matrix(filter))\n",
    "print(recovered, remainder)"
   ]
  },
  {
   "cell_type": "code",
   "execution_count": null,
   "metadata": {},
   "outputs": [],
   "source": []
  }
 ],
 "metadata": {
  "kernelspec": {
   "display_name": "Python 3.9.0 64-bit",
   "language": "python",
   "name": "python3"
  },
  "language_info": {
   "codemirror_mode": {
    "name": "ipython",
    "version": 3
   },
   "file_extension": ".py",
   "mimetype": "text/x-python",
   "name": "python",
   "nbconvert_exporter": "python",
   "pygments_lexer": "ipython3",
   "version": "3.9.0"
  },
  "orig_nbformat": 4,
  "vscode": {
   "interpreter": {
    "hash": "c159ff16639e7709a56ca81ec8afaaa6150482356dfb759e7600fe6e8560a2a8"
   }
  }
 },
 "nbformat": 4,
 "nbformat_minor": 2
}
